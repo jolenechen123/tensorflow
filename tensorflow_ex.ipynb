{
 "cells": [
  {
   "cell_type": "code",
   "execution_count": 5,
   "metadata": {},
   "outputs": [
    {
     "name": "stdout",
     "output_type": "stream",
     "text": [
      "0 [0.70417184] [-0.05410659]\n",
      "20 [0.2611044] [0.21149237]\n",
      "40 [0.14230344] [0.27675933]\n",
      "60 [0.11110824] [0.29389736]\n",
      "80 [0.10291687] [0.29839754]\n",
      "100 [0.10076591] [0.29957923]\n",
      "120 [0.10020112] [0.29988953]\n",
      "140 [0.10005282] [0.29997098]\n",
      "160 [0.10001388] [0.29999238]\n",
      "180 [0.10000365] [0.29999802]\n",
      "200 [0.10000096] [0.29999948]\n"
     ]
    }
   ],
   "source": [
    "import tensorflow as tf\n",
    "import numpy as np\n",
    "\n",
    "#creat data\n",
    "x_data = np.random.rand(100).astype(np.float32)  #100個隨機數列tpye為float32\n",
    "y_data = x_data*0.1 + 0.3\n",
    "\n",
    "### creat tensorflow structure start ###\n",
    "\n",
    "Weights = tf.Variable(tf.random_uniform([1],-1.0,1.0)) # 初始值設在1到-1之間 Weights可能是一個二維矩陣，W用大寫區別。 Variable = Weights的隨機變量 [1]:目前Weights=0.1是一維\n",
    "biases = tf.Variable(tf.zeros([1])) #初始值從0開始\n",
    "\n",
    "y = Weights*x_data + biases\n",
    "\n",
    "loss = tf.reduce_mean(tf.square(y-y_data)) #誤差\n",
    "optimizer = tf.train.GradientDescentOptimizer(0.5) #優化器-減少誤差   0.5學習效率\n",
    "train = optimizer.minimize(loss)\n",
    "\n",
    "init = tf.initialize_all_variables() #初始\n",
    "\n",
    "### creat tensorflow structure end ###\n",
    "\n",
    "sess = tf.Session()\n",
    "sess.run(init)  # 激活init 很重要!!!!!  起始點\n",
    "\n",
    "for step in range(201):\n",
    "    sess.run(train)\n",
    "    if step % 20 == 0:\n",
    "        print(step, sess.run(Weights), sess.run(biases)) #輸出這一步我的Wieghts是多少 biases是多少\n",
    "        \n",
    "        "
   ]
  },
  {
   "cell_type": "code",
   "execution_count": null,
   "metadata": {},
   "outputs": [],
   "source": []
  }
 ],
 "metadata": {
  "kernelspec": {
   "display_name": "Python 3",
   "language": "python",
   "name": "python3"
  },
  "language_info": {
   "codemirror_mode": {
    "name": "ipython",
    "version": 3
   },
   "file_extension": ".py",
   "mimetype": "text/x-python",
   "name": "python",
   "nbconvert_exporter": "python",
   "pygments_lexer": "ipython3",
   "version": "3.6.5"
  }
 },
 "nbformat": 4,
 "nbformat_minor": 2
}
